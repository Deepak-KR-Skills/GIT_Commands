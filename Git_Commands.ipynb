{
 "cells": [
  {
   "cell_type": "markdown",
   "source": [
    "# **Basic to Advance Git Commands**\r\n",
    "In this section, you will learn the essential Git commands. These basic Git commands are the foundation to learn more advanced commands. "
   ],
   "metadata": {}
  },
  {
   "cell_type": "markdown",
   "source": [
    "## **1. git version**\r\n",
    "As its name implies, it's just to check which version of Git you are using. At the moment, writing this guide, the latest version of Git for Windows is 2.31.1. It was released on 27th March 2021.\r\n",
    "\r\n",
    "Usage  \r\n",
    "`$ git version`\r\n",
    "> git version\r\n",
    "***"
   ],
   "metadata": {}
  },
  {
   "cell_type": "markdown",
   "source": [
    "## **2. git config**\r\n",
    "Git config command is super helpful. Especially when you are using Git for the first time, or you have a new Git installation. This command will set up your identity - Name and Email address. And this information will be used with every commit.\r\n",
    "\r\n",
    "Usage  \r\n",
    "`$ git config --global user.name \"Your name\"  `  \r\n",
    "> git config --global user.name \"Deepak\" \r\n",
    "***\r\n",
    "`$ git config --global user.email \"Your email\" `  \r\n",
    "> git config --global user.email \"deepakgowdakr09@gmail.com\"\r\n",
    "***"
   ],
   "metadata": {}
  },
  {
   "cell_type": "markdown",
   "source": [
    "## **3. git init**\r\n",
    "This is probably the first command you use to start a new project in Git. This command will create a blank new repository, and then you can store your source code inside this repo.  \r\n",
    "\r\n",
    "Usage  \r\n",
    "`$ git init` \r\n",
    "\r\n",
    "Or you can use the repository name with your git init command.  \r\n",
    "`$ git init <your repository name>`\r\n",
    ">git init my_newProject"
   ],
   "metadata": {}
  },
  {
   "cell_type": "markdown",
   "source": [
    "## **4. git status** \r\n",
    "This Git command is convenient to see how many files are there which need your attention. You can run this command at any time. \r\n",
    "You can use it in between Git add, and Git commits to see the status.\r\n",
    "\r\n",
    "Usage  \r\n",
    "`$ git status`  \r\n",
    "> git status"
   ],
   "metadata": {}
  },
  {
   "cell_type": "markdown",
   "source": [
    "## **5. git add** \r\n",
    "The Git add command will add all the new code files or modified files into your repository. This command offers different options to add files and folders. \r\n",
    "\r\n",
    "Usage  \r\n",
    "`$ git add your_file_name` (it will add a single file to your staging area)  \r\n",
    "> git add singleFile.txt  \r\n",
    "\r\n",
    "`$ git add * ` or `git add --a` ( this option will add all the modified and new files to the staging area)  \r\n",
    "> git add --a  \r\n",
    "\r\n",
    "or\r\n",
    "> git add *  "
   ],
   "metadata": {}
  },
  {
   "cell_type": "markdown",
   "source": [
    "## **6. git commit** \r\n",
    "This Git command is essential. Your project quality may drop if you will not use this command appropriately. In simple words, the Git commit will add your changes to your local repository.\r\n",
    "\r\n",
    "Usage  \r\n",
    "`$ git commit -m “your useful commit message”`\r\n",
    "> git commit -m \"type your commit message here\""
   ],
   "metadata": {}
  },
  {
   "cell_type": "markdown",
   "source": [
    "## **7. git version-commit**  \r\n",
    "The git verify-commit command will check the gpg signature. GPG or “GNU Privacy Guard” is the tool used in sign files and contains their signatures.\r\n",
    "\r\n",
    "Usage  \r\n",
    "`$ git verify-commit <commit>`\r\n",
    "> git verify-commit sys_id_of_commit_to_be_verified(fdd123l3433dkfs343432432dsa323)"
   ],
   "metadata": {}
  },
  {
   "cell_type": "markdown",
   "source": [
    "## **8. git citool**  \r\n",
    "Git citool is a graphics alternative of the Git commit.\r\n",
    "\r\n",
    "Usage  \r\n",
    "`$ git citool`"
   ],
   "metadata": {}
  },
  {
   "cell_type": "markdown",
   "source": [
    "## **9. git restore**  \r\n",
    "**The \"restore\" command helps to unstage or even discard uncommitted local changes.**  \r\n",
    "One the one hand, the command can be used to undo the effects of git add and unstage changes you have previously added to the Staging Area.  \r\n",
    "On the other hand, the restore command can also be used to discard local changes in a file, thereby restoring its last committed state.\r\n",
    "\r\n",
    "Usage  \r\n",
    "`$ git restore --staged filename.extension`\r\n",
    "> git restore --staged index.html"
   ],
   "metadata": {}
  },
  {
   "cell_type": "markdown",
   "source": [
    "## **10. git log**  \r\n",
    "With the help of the Git log, you can see all the previous commits with the most recent commit appear first.\r\n",
    "\r\n",
    "Usage  \r\n",
    "`$ git log`  \r\n",
    "By default, it will show you all the commits of the currently checked out branch, but you can force it to see all the commits of all the branches with all options.  \r\n",
    "`$ git log --all`"
   ],
   "metadata": {}
  },
  {
   "cell_type": "markdown",
   "source": [
    "## **11. git shortlog**  \r\n",
    "The shortlog command shows you a summary from the Git log command. This command is helpful if you are just interested in the short summary.  \r\n",
    "This command is helpful to see who worked on what as it group author with their commits.\r\n",
    "\r\n",
    "Usage  \r\n",
    "`$ git shortlog`"
   ],
   "metadata": {}
  },
  {
   "cell_type": "markdown",
   "source": [
    "## **12. git whatchanged**  \r\n",
    "This command does the same thing as git log but in a raw form. And it’s in the git because of historical reasons.\r\n",
    "\r\n",
    "Usage  \r\n",
    "`$ git whatchanged`"
   ],
   "metadata": {}
  },
  {
   "cell_type": "markdown",
   "source": [
    "## **13. git show**  \r\n",
    "Compared to the Git log, this command git show will show you details about a specific commit.\r\n",
    "\r\n",
    "Usage  \r\n",
    "`$ git show <your_commit_hash>`\r\n",
    "> git show 45vscsbcce43ddsff"
   ],
   "metadata": {}
  },
  {
   "cell_type": "markdown",
   "source": [
    "## **14. git tag**  \r\n",
    "In Git, tags are helpful, and you can use them to manage the release. You can think of a Git tag like a branch that will not change. It is significantly more important if you are making a public release.\r\n",
    "\r\n",
    "Usage  \r\n",
    "`$ git tag -a v1.0.0`"
   ],
   "metadata": {}
  },
  {
   "cell_type": "markdown",
   "source": [
    "## **15. git verify-tag**  \r\n",
    "The git verify-commit command will check the gpg signature. GPG or “GNU Privacy Guard” is the tool used in sign files and contains their signatures, In the same way, you can confirm a tag.\r\n",
    "\r\n",
    "Usage  \r\n",
    "`$ git verify-tag <tag>`"
   ],
   "metadata": {}
  },
  {
   "cell_type": "markdown",
   "source": [
    "## **16. git remote**  \r\n",
    "Git remote command acts like a border, and If you need to connect with the outside world, you have to use the Git remote command. This command will connect your local repository to the remote. \r\n",
    "\r\n",
    "Usage  \r\n",
    "`$ git remote add <shortname> <url>`\r\n",
    "> git remote add origin https://github.com/DeepakGowdaK/GitHub_Tutorials \r\n",
    "\r\n",
    "To find the url of the remote which is already added use below code snippet.  \r\n",
    "`$ git config --get remote.origin.url`"
   ],
   "metadata": {}
  },
  {
   "cell_type": "markdown",
   "source": [
    "## **17. git clone**  \r\n",
    "The git clone command will use an existing repository to copy. There is one main difference between the git init and git clone.  \r\n",
    "You will use the Git clone when you need to make a copy on an existing repository. The git clone command internally uses the git init command first and then checks out all its contents.\r\n",
    "\r\n",
    "Usage  \r\n",
    "`git clone <your project URL>`\r\n",
    "> git clone git@github.com:DeepakGowdaK/GitHub_Tutorials.git"
   ],
   "metadata": {}
  },
  {
   "cell_type": "markdown",
   "source": [
    "## **18. git push**  \r\n",
    "Once you are connected with the remote repository (with the help of the git remote command), it's time to push your changes to that repository.\r\n",
    "\r\n",
    "Usage  \r\n",
    "`$ git push -u <short_name> <your_branch_name>`\r\n",
    "> $ git push -u origin master  \r\n",
    "\r\n",
    "You should have origin and upstream set up before you use Git push. And here is the command to set up upstream.\r\n",
    "\r\n",
    "Usage  \r\n",
    "`$ git push --set-upstream <short_name> <branch_name>` \r\n",
    "> $ git push --set-upstream origin new_branchName"
   ],
   "metadata": {}
  },
  {
   "cell_type": "markdown",
   "source": [
    "## **19. git pull**  \r\n",
    "The Git pull command downloads the content (and not the metadata) and immediately updates your local repository with the latest content. \r\n",
    "\r\n",
    "Usage  \r\n",
    "`$ git pull <remote_url>`\r\n",
    "> git pull git@github.com:DeepakGowdaK/GitHub_Tutorials.git"
   ],
   "metadata": {}
  },
  {
   "cell_type": "markdown",
   "source": [
    "## **20. git stash**  \r\n",
    "This Git command temporarily stores your modified files. You can work in stashed with the following Git command. \r\n",
    "\r\n",
    "Usage  \r\n",
    "`$ git stash`\r\n",
    "`git stash save`      \r\n",
    "This command temporarily stores all the modified tracked files.\r\n",
    "\r\n",
    "`$ git stash list`  \r\n",
    "This command lists all stashed changesets. \r\n",
    "\r\n",
    "`git stash pop`  \r\n",
    "This command restores the most recently stashed files.\r\n",
    "\r\n",
    "`git stash drop`  \r\n",
    "This command discards the most recently stashed changeset.\r\n",
    "\r\n",
    "And if you need a apply a stash to a branch, simply use apply.  \r\n",
    "`$ git stash apply`"
   ],
   "metadata": {}
  },
  {
   "cell_type": "markdown",
   "source": [
    "## **21. git branch**  \r\n",
    "Most of the time, you have multiple branches in your Git repository. In simple terms, the branch is an independent line of code development.  \r\n",
    "\r\n",
    "With the Git branch command, you can manage your branches effectively. There are many different options and switches of the Git branch. \r\n",
    "\r\n",
    "To make it simple, here we will highlight how you can create and delete a Git branch.\r\n",
    "\r\n",
    "Usage  \r\n",
    "1. To list all branches: `$ git branch `  \r\n",
    "2. To create a new branch: `$ git branch <branch_name>`  \r\n",
    "3. To delete a branch: `$ git branch -d <branch_name>`"
   ],
   "metadata": {}
  },
  {
   "cell_type": "markdown",
   "source": [
    "## **22. git checkout**  \r\n",
    "This Git command is used to switch between branches. This is one of the powerful git commands and can use as a swiss knife. In simple words, here is the syntax to switch to another branch.\r\n",
    "\r\n",
    "Usage  \r\n",
    "`$ git checkout <branch_name>`\r\n",
    "\r\n",
    "Also, you can create and checkout to a branch in a single like, here is the usage for that  \r\n",
    "`$ git checkout -b <your_new_branch_name>`"
   ],
   "metadata": {}
  },
  {
   "cell_type": "markdown",
   "source": [
    "## **23. git switch**  \r\n",
    "**The \"switch\" command allows you to switch your current HEAD branch. It's relatively new (added in Git v2.23) and provides a simpler alternative to the classic \"checkout\" command.**  \r\n",
    "\r\n",
    "Before \"switch\" was available, changing branches had to be done with the \"checkout\" command. The problem with \"checkout\", however, is that it's a very versatile command: you can not only use it to switch branches, but also to discard changes, restore files, and much more.\r\n",
    "\r\n",
    "The \"switch\" command provides a simple alternative to \"checkout\". It has a very clear and limited purpose: switching and creating branches!  \r\n",
    "\r\n",
    "Usage \r\n",
    "1. The most common scenario is to simply specify the local branch you want to switch to:   \r\n",
    "`$ git switch other-branch`  \r\n",
    "2. This will make the given branch the new HEAD branch. If, in one go, you also want to create a new local branch, you can use the \"-c\" parameter:  \r\n",
    "`$ git switch -c new-branch`  \r\n",
    "3. If you want to check out a remote branch (that doesn't yet exist as a local branch in your local repository), you can simply provide the remote branch's name. When Git cannot find the specified name as a local branch, it will assume you want to check out the respective remote branch of that name:  \r\n",
    "`$ git switch remote-branch`  -- **Need to check more on this use case examples.**  \r\n",
    "4. This will not only create a local branch, but also set up a \"tracking relationship\" between the two branches, making sure that pulling and pushing will be as easy as \"git pull\" and \"git push\".  \r\n",
    "If you have local modifications that would conflict with the branch you want to switch to, you can instruct Git to clear your working copy of any local changes (please be careful with this!):  \r\n",
    "`$ git switch other-branch --discard-changes`  \r\n",
    "\r\n",
    "5. Finally, if you want to switch back to the previously checked out branch, you can simply do this by specifying only the \"-\" character:  \r\n",
    "`$ git switch -`  \r\n"
   ],
   "metadata": {}
  },
  {
   "cell_type": "markdown",
   "source": [
    "## **24. git merge**  \r\n",
    "Git merge helps you to integrate changes from two branches into a single branch. \r\n",
    "\r\n",
    "Usage  \r\n",
    "`$ git merge <branch_name>`\r\n",
    "\r\n",
    "This command will merge the <branch_name> into your current selected branch. or This command merges the specified branch’s history into the current branch.\r\n",
    "> c\\My_project\\Git_tutorial(master): git merge devops  \r\n",
    "\r\n",
    "From above code snippets we can say changes capured with devops branch will be merged to master branch(current branch)."
   ],
   "metadata": {}
  },
  {
   "cell_type": "markdown",
   "source": [
    "## **25. git diff**  \r\n",
    "Most of the time, you need to compare two git files or branches before you commit or push. Here is a handy command to do that. \r\n",
    "\r\n",
    "Usage  \r\n",
    "1. To compare the working directory with the local repo: `$ git diff HEAD <filename>`  \r\n",
    "2. To compare two branches: `$ git diff <source branch> <target branch>`"
   ],
   "metadata": {}
  },
  {
   "cell_type": "markdown",
   "source": [
    "## **26. git reset**  \r\n",
    "Usage  \r\n",
    "1. This command unstages the file, but it preserves the file contents.  \r\n",
    "`git reset [file]` \r\n",
    "2. This command undoes all the commits after the specified commit and preserves the changes locally.  \r\n",
    "`git reset [commit_hash]`  \r\n",
    "3. This command discards all history and goes back to the specified commit.  \r\n",
    "`git reset –hard [commit_hash]`"
   ],
   "metadata": {}
  },
  {
   "cell_type": "markdown",
   "source": [
    "## **27. git revert**  \r\n",
    "The git revert command can be considered as an ‘undo’ command. However, it does not work as the traditional ‘undo’ operation. It figures out how to invert the changes introduced by the commit and appends a new commit with the resulting inverse content.  \r\n",
    "\r\n",
    "Usage  \r\n",
    "`git revert [commit_hash/ID]`"
   ],
   "metadata": {}
  },
  {
   "cell_type": "markdown",
   "source": [
    "## **28. git rm**  \r\n",
    "Sometimes you need to delete files from your codebase, and in that case, you can use the Git rm command.\r\n",
    "\r\n",
    "It can delete tracked files from the index and the working directory.\r\n",
    "\r\n",
    "Usage  \r\n",
    "`$ git rm <your_file_name>`  \r\n",
    "`$ git rm -rf .git` - to remove git file from repository."
   ],
   "metadata": {}
  },
  {
   "cell_type": "markdown",
   "source": [
    "## **29. git mv**  \r\n",
    "To rename a git file. It will accept two arguments, source and target file name.\r\n",
    "\r\n",
    "Usage  \r\n",
    "`$ git mv <old-file-name> <new-file-name>`"
   ],
   "metadata": {}
  },
  {
   "cell_type": "markdown",
   "source": [
    "## **30. git clean**  \r\n",
    "You can deal with untracked files by using the Git clean command. You can remove all the untracked files from your working directory by using this command. In case you want to deal with tracked files you need to use the Git reset command.\r\n",
    "\r\n",
    "Usage  \r\n",
    "`$ git clean` - For all untracked files to remove.  \r\n",
    "`$ git clean [File_Name]` - For individual files to remove."
   ],
   "metadata": {}
  },
  {
   "cell_type": "markdown",
   "source": [
    "## **31. git fetch**  \r\n",
    "When you need to download other team members' changes, you have to use git fetch. \r\n",
    "\r\n",
    "This command will download all information for commits, refs, etc., so you can review it before applying those changes in your local repository.\r\n",
    "\r\n",
    "Usage  \r\n",
    "`$ git fetch`"
   ],
   "metadata": {}
  },
  {
   "cell_type": "markdown",
   "source": [
    "## **32. git rebase**  \r\n",
    "Git rebase similar to the git merge command. It integrates two branches into a single branch with one exception. A git rebase command rewrites the commit history.\r\n",
    "\r\n",
    "You should use the Git rebase command when you have multiple private branches to consolidate into a single branch. And it will make the commit history linear.\r\n",
    "\r\n",
    "Usage  \r\n",
    "`$ git rebase <base>`"
   ],
   "metadata": {}
  },
  {
   "cell_type": "markdown",
   "source": [
    "## **33. git pull--rebase**  \r\n",
    "Most of the time, you need to do rebase (and no merge) when you use Git pull.\r\n",
    "\r\n",
    "In that case, you can use the option\r\n",
    "\r\n",
    "Usage  \r\n",
    "`$ git pull --rebase`\r\n",
    "\r\n",
    "It will help you to keep the history clean. Also, you can avoid multiple merges."
   ],
   "metadata": {}
  },
  {
   "cell_type": "markdown",
   "source": [
    "## **34. git bisect**  \r\n",
    "The Git bisect command helps you to find bad commits. \r\n",
    "\r\n",
    "Usage  \r\n",
    "1. To start the git bisect - `git bisect start`  \r\n",
    "2. let git bisect know about a good commit - `$ git bisect good a123`  \r\n",
    "3. And let git bisect know about a bad commit - `$ git bisect bad z123`  \r\n",
    "\r\n",
    "With Git bisect you can narrow down the broken code within a few minutes. For more information refer this <a href='https://stackoverflow.com/questions/4713088/how-to-use-git-bisect' target=_blank>Link.</a>"
   ],
   "metadata": {}
  },
  {
   "cell_type": "markdown",
   "source": [
    "## **35. git cherry-pick**  \r\n",
    "Git cherry-pick is a helpful command. It's a robust command and allows you to pick any commit from any branch and apply it to any other branch.\r\n",
    "\r\n",
    "Usage  \r\n",
    "`$ git cherry-pick <commit-hash>`\r\n",
    "\r\n",
    "Git cherry-pick doesn’t modify the history of a repository; instead, it adds to the history."
   ],
   "metadata": {}
  },
  {
   "cell_type": "markdown",
   "source": [
    "## **36. git archive**  \r\n",
    "Git archive command will combine multiple files into a  single file. It's like a zip utility, so it means you can extract the archive files to get individual files.\r\n",
    "\r\n",
    "Usage  \r\n",
    "`$ git archive --format zip HEAD > archive-HEAD.zip`\r\n",
    "\r\n",
    "It will create a zip archive of the current revision."
   ],
   "metadata": {}
  },
  {
   "cell_type": "markdown",
   "source": [
    "## **37. git blame**  \r\n",
    "If you need to examine the content of any file line by line,  you need to use git blame. It helps you to determine who made the changes to a file.\r\n",
    "\r\n",
    "Usage  \r\n",
    "`$ git blame <your_file_name>`"
   ],
   "metadata": {}
  },
  {
   "cell_type": "markdown",
   "source": [
    "## **38. git sparse-checkout**  \r\n",
    "\r\n",
    "**concept not clear at this point of time so need to make time and have look :)**"
   ],
   "metadata": {}
  },
  {
   "cell_type": "markdown",
   "source": [
    "## **39. touch**  \r\n",
    "Touch command is linux based comment to create new file within the current repository.\r\n",
    "\r\n",
    "Usage  \r\n",
    "`touch file_name.extension`"
   ],
   "metadata": {}
  },
  {
   "cell_type": "markdown",
   "source": [
    "## **40. git help**  \r\n",
    "There are many commands in Git, and if you need more help with any command, you can use git help at any time from the terminal. \r\n",
    "\r\n",
    "Usage  \r\n",
    "`$ git help <git_command>`"
   ],
   "metadata": {}
  }
 ],
 "metadata": {
  "orig_nbformat": 4,
  "language_info": {
   "name": "python"
  }
 },
 "nbformat": 4,
 "nbformat_minor": 2
}